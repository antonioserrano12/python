{
 "cells": [
  {
   "cell_type": "code",
   "execution_count": 189,
   "id": "accepted-riverside",
   "metadata": {},
   "outputs": [
    {
     "name": "stdout",
     "output_type": "stream",
     "text": [
      "{'Jan-10': 867884, 'Feb-10': 984655, 'Mar-10': 322013, 'Apr-10': -69417, 'May-10': 310503, 'Jun-10': 522857, 'Jul-10': 1033096, 'Aug-10': 604885, 'Sep-10': -216386, 'Oct-10': 477532, 'Nov-10': 893810, 'Dec-10': -80353, 'Jan-11': 779806, 'Feb-11': -335203, 'Mar-11': 697845, 'Apr-11': 793163, 'May-11': 485070, 'Jun-11': 584122, 'Jul-11': 62729, 'Aug-11': 668179, 'Sep-11': 899906, 'Oct-11': 834719, 'Nov-11': 132003, 'Dec-11': 309978, 'Jan-12': -755566, 'Feb-12': 1170593, 'Mar-12': 252788, 'Apr-12': 1151518, 'May-12': 817256, 'Jun-12': 570757, 'Jul-12': 506702, 'Aug-12': -1022534, 'Sep-12': 475062, 'Oct-12': 779976, 'Nov-12': 144175, 'Dec-12': 542494, 'Jan-13': 359333, 'Feb-13': 321469, 'Mar-13': 67780, 'Apr-13': 471435, 'May-13': 565603, 'Jun-13': 872480, 'Jul-13': 789480, 'Aug-13': 999942, 'Sep-13': -1196225, 'Oct-13': 268997, 'Nov-13': -687986, 'Dec-13': 1150461, 'Jan-14': 682458, 'Feb-14': 617856, 'Mar-14': 824098, 'Apr-14': 581943, 'May-14': 132864, 'Jun-14': 448062, 'Jul-14': 689161, 'Aug-14': 800701, 'Sep-14': 1166643, 'Oct-14': 947333, 'Nov-14': 578668, 'Dec-14': 988505, 'Jan-15': 1139715, 'Feb-15': 1029471, 'Mar-15': 687533, 'Apr-15': -524626, 'May-15': 158620, 'Jun-15': 87795, 'Jul-15': 423389, 'Aug-15': 840723, 'Sep-15': 568529, 'Oct-15': 332067, 'Nov-15': 989499, 'Dec-15': 778237, 'Jan-16': 650000, 'Feb-16': -1100387, 'Mar-16': -174946, 'Apr-16': 757143, 'May-16': 445709, 'Jun-16': 712961, 'Jul-16': -1163797, 'Aug-16': 569899, 'Sep-16': 768450, 'Oct-16': 102685, 'Nov-16': 795914, 'Dec-16': 60988, 'Jan-17': 138230, 'Feb-17': 671099}\n"
     ]
    },
    {
     "ename": "TypeError",
     "evalue": "can only concatenate str (not \"int\") to str",
     "output_type": "error",
     "traceback": [
      "\u001b[0;31m---------------------------------------------------------------------------\u001b[0m",
      "\u001b[0;31mTypeError\u001b[0m                                 Traceback (most recent call last)",
      "\u001b[0;32m<ipython-input-189-421c82a28e66>\u001b[0m in \u001b[0;36m<module>\u001b[0;34m\u001b[0m\n\u001b[1;32m     25\u001b[0m \u001b[0;34m\u001b[0m\u001b[0m\n\u001b[1;32m     26\u001b[0m     \u001b[0;32mfor\u001b[0m \u001b[0mkey\u001b[0m\u001b[0;34m,\u001b[0m \u001b[0mvalue\u001b[0m \u001b[0;32min\u001b[0m \u001b[0mnew_dict\u001b[0m\u001b[0;34m.\u001b[0m\u001b[0mitems\u001b[0m\u001b[0;34m(\u001b[0m\u001b[0;34m)\u001b[0m\u001b[0;34m:\u001b[0m\u001b[0;34m\u001b[0m\u001b[0;34m\u001b[0m\u001b[0m\n\u001b[0;32m---> 27\u001b[0;31m         \u001b[0mprint\u001b[0m\u001b[0;34m(\u001b[0m\u001b[0mkey\u001b[0m\u001b[0;34m+\u001b[0m\u001b[0;36m1\u001b[0m\u001b[0;34m)\u001b[0m\u001b[0;34m\u001b[0m\u001b[0;34m\u001b[0m\u001b[0m\n\u001b[0m\u001b[1;32m     28\u001b[0m \u001b[0;34m\u001b[0m\u001b[0m\n\u001b[1;32m     29\u001b[0m \u001b[0;34m\u001b[0m\u001b[0m\n",
      "\u001b[0;31mTypeError\u001b[0m: can only concatenate str (not \"int\") to str"
     ]
    }
   ],
   "source": [
    "import csv\n",
    "\n",
    "with open('budget_data.csv', 'r') as file:\n",
    "    reader = csv.DictReader(file) \n",
    "      \n",
    "    pl_total = 0 # The net total amount of Profit/Losses over the entire period\n",
    "    new_dict = {}\n",
    "    month_count = 0 # The total number of months included in the dataset\n",
    "    avg_diff = 0\n",
    "    \n",
    "    max_date = None # The greatest increase in profits (date and amount) over the entire period\n",
    "    max_amount = 0\n",
    "    \n",
    "    min_date = None # The greatest decrease in losses (date and amount) over the entire period.\n",
    "    min_amount = 0\n",
    "    \n",
    "    for row in reader: \n",
    "        if row['\\ufeffDate'] != '' and row['Profit/Losses'] != '':\n",
    "            new_dict[row['\\ufeffDate']] = int(row['Profit/Losses'])\n",
    "            month_count += 1\n",
    "           \n",
    "        else:\n",
    "            continue\n",
    "    print(new_dict)\n",
    "    \n",
    "    for key, value in new_dict.items():\n",
    "        print(key)\n",
    "        \n",
    "                \n",
    "             \n",
    "    print(f\"The total P&L is ${pl_total}\")\n",
    "    \n",
    "    average_pl_changes = round(pl_total / month_count, 2) #The average of the changes in Profit/Losses over the entire period\n",
    "    print(f\"The average is ${average_pl_changes}\")\n",
    "    print(f\"Greatest increase in profits: {max_date} ({max_amount})\")\n",
    "    print(f\"Greatest Decrease in profits: {min_date} ({min_amount})\")\n",
    "   \n",
    "    "
   ]
  },
  {
   "cell_type": "code",
   "execution_count": null,
   "id": "cutting-order",
   "metadata": {},
   "outputs": [],
   "source": [
    "    # I create a list to calculate the average of the changes in Profit/Losses over the entire period\n",
    "    pl_list = [] \n",
    "    for row in reader:\n",
    "        if row['Profit/Losses'] != '':\n",
    "            aux = int(row['Profit/Losses'])\n",
    "            pl_list.append(aux)\n",
    "        else:\n",
    "            continue\n",
    "            \n",
    "    "
   ]
  },
  {
   "cell_type": "raw",
   "id": "received-garden",
   "metadata": {},
   "source": []
  }
 ],
 "metadata": {
  "kernelspec": {
   "display_name": "Python 3",
   "language": "python",
   "name": "python3"
  },
  "language_info": {
   "codemirror_mode": {
    "name": "ipython",
    "version": 3
   },
   "file_extension": ".py",
   "mimetype": "text/x-python",
   "name": "python",
   "nbconvert_exporter": "python",
   "pygments_lexer": "ipython3",
   "version": "3.8.5"
  }
 },
 "nbformat": 4,
 "nbformat_minor": 5
}
