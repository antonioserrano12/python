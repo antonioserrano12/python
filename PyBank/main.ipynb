{
 "cells": [
  {
   "cell_type": "code",
   "execution_count": 2,
   "id": "compatible-component",
   "metadata": {},
   "outputs": [],
   "source": [
    "import csv\n",
    "import sys # Iused this library to create the output file to write the final results\n",
    "\n",
    "with open('budget_data.csv', 'r') as file:\n",
    "    reader = csv.DictReader(file) \n",
    "\n",
    "    max_date = None # The greatest increase in profits (date and amount) over the entire period\n",
    "    max_amount = 0\n",
    "    \n",
    "    min_date = None # The greatest decrease in losses (date and amount) over the entire period.\n",
    "    min_amount = 0\n",
    "    \n",
    "    list_date = [] # I use this list to store all the dates from the CSV file\n",
    "    list_pl = [] # I am goint to use this list to compare and sum Profit/Losses values\n",
    "    \n",
    "    avg_sum = 0 # I used these variables to calculate the average of the changes \n",
    " \n",
    "    for row in reader: # I use this loop to build one dictionaryand two lists.\n",
    "        if row['\\ufeffDate'] != '' and row['Profit/Losses'] != '':\n",
    "            list_date.append(row['\\ufeffDate'])\n",
    "            list_pl.append(int(row['Profit/Losses']))\n",
    "        else:\n",
    "            continue\n",
    "            \n",
    "    for value in range(len(list_pl)): # I calculate the max and minimum date and amount over the entire period\n",
    "        if (list_pl[value] - list_pl[value - 1]) > max_amount:\n",
    "            max_amount = list_pl[value] - list_pl[value - 1]\n",
    "            max_date = list_date[value]\n",
    "            \n",
    "        elif (list_pl[value] - list_pl[value - 1]) < min_amount:\n",
    "            min_amount = list_pl[value] - list_pl[value - 1]\n",
    "            min_date = list_date[value]\n",
    "        else:\n",
    "            continue\n",
    "\n",
    "    for value in range(len(list_pl)): # This loops iterates through the list of Profit & Loss values a adds the substraction of n - (n -1) to a varible that will be used to calculat the average\n",
    "        if value < 1:\n",
    "            continue\n",
    "        else:\n",
    "            avg_sum = avg_sum + (list_pl[value] - list_pl[value - 1])\n",
    "#    print(avg_sum)\n",
    "#    print(round(avg_sum / (len(list_pl) - 1)))\n",
    "#    #print(avg_sum / -2315.12)\n",
    "#    print(len(list_pl) - 1)\n",
    "#    print(len(list_pl))\n",
    "    \n"
   ]
  },
  {
   "cell_type": "code",
   "execution_count": null,
   "id": "subject-election",
   "metadata": {},
   "outputs": [],
   "source": [
    "with open('result.txt', 'w') as f:\n",
    "    sys.stdout = f # Change the standard output to the file we created.\n",
    "    print(f\"The total P&L is ${sum(list_pl)}\")\n",
    "    print(f\"The average change is ${round((avg_sum / (len(list_pl) - 1)),2)}\")\n",
    "    print(f\"Greatest increase in profits: {max_date}  ${max_amount}\")\n",
    "    print(f\"Greatest Decrease in profits: {min_date}  ${min_amount}\")\n",
    "    sys.stdout = original_stdout # Reset the standard output to its original value"
   ]
  },
  {
   "cell_type": "code",
   "execution_count": null,
   "id": "likely-robinson",
   "metadata": {},
   "outputs": [],
   "source": []
  }
 ],
 "metadata": {
  "kernelspec": {
   "display_name": "Python 3",
   "language": "python",
   "name": "python3"
  },
  "language_info": {
   "codemirror_mode": {
    "name": "ipython",
    "version": 3
   },
   "file_extension": ".py",
   "mimetype": "text/x-python",
   "name": "python",
   "nbconvert_exporter": "python",
   "pygments_lexer": "ipython3",
   "version": "3.8.5"
  }
 },
 "nbformat": 4,
 "nbformat_minor": 5
}
