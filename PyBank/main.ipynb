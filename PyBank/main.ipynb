{
 "cells": [
  {
   "cell_type": "code",
   "execution_count": 131,
   "id": "thousand-austin",
   "metadata": {},
   "outputs": [],
   "source": [
    "import csv\n",
    "import sys\n",
    "\n",
    "with open('budget_data.csv', 'r') as file:\n",
    "    reader = csv.DictReader(file) \n",
    "\n",
    "    max_date = None # The greatest increase in profits (date and amount) over the entire period\n",
    "    max_amount = 0\n",
    "    \n",
    "    min_date = None # The greatest decrease in losses (date and amount) over the entire period.\n",
    "    min_amount = 0\n",
    "    \n",
    "    list_date = [] # I use this list to store all the dates from the CSV file\n",
    "    list_pl = [] # I am goint to use this list to compare and sum Profit/Losses values\n",
    "\n",
    "\n",
    "    for row in reader: # I use this loop to build one dictionaryand two lists\n",
    "        if row['\\ufeffDate'] != '' and row['Profit/Losses'] != '':\n",
    "            list_date.append(row['\\ufeffDate'])\n",
    "            list_pl.append(int(row['Profit/Losses']))\n",
    "        else:\n",
    "            continue\n",
    "            \n",
    "    for value in range(len(list_pl)):       \n",
    "        if (list_pl[value] - list_pl[value - 1]) > max_amount:\n",
    "            max_amount = list_pl[value] - list_pl[value - 1]\n",
    "            max_date = list_date[value]\n",
    "            count_pl_changes_up = count_changes_up + max_amount\n",
    "            count_changes_up += 1\n",
    "            \n",
    "        elif (list_pl[value] - list_pl[value - 1]) < min_amount:\n",
    "            min_amount = list_pl[value] - list_pl[value - 1]\n",
    "            min_date = list_date[value]\n",
    "        else:\n",
    "            continue\n"
   ]
  },
  {
   "cell_type": "code",
   "execution_count": null,
   "id": "mature-column",
   "metadata": {},
   "outputs": [],
   "source": [
    "with open('results.txt', 'w') as f:\n",
    "    sys.stdout = f # Change the standard output to the file we created.\n",
    "    print(f\"The total P&L is ${sum(list_pl)}\")\n",
    "    print(f\"The average change is ${sum(list_pl) / len(list_pl)}\")\n",
    "    print(f\"Greatest increase in profits: {max_date}  ${max_amount}\")\n",
    "    print(f\"Greatest Decrease in profits: {min_date}  ${min_amount}\")\n",
    "    sys.stdout = original_stdout # Reset the standard output to its original value\n"
   ]
  },
  {
   "cell_type": "code",
   "execution_count": null,
   "id": "criminal-consensus",
   "metadata": {},
   "outputs": [],
   "source": []
  },
  {
   "cell_type": "code",
   "execution_count": null,
   "id": "close-robinson",
   "metadata": {},
   "outputs": [],
   "source": []
  },
  {
   "cell_type": "raw",
   "id": "printable-sweet",
   "metadata": {},
   "source": [
    "   "
   ]
  },
  {
   "cell_type": "code",
   "execution_count": null,
   "id": "massive-qatar",
   "metadata": {},
   "outputs": [],
   "source": []
  },
  {
   "cell_type": "raw",
   "id": "oriented-vacation",
   "metadata": {},
   "source": []
  },
  {
   "cell_type": "code",
   "execution_count": 77,
   "id": "german-ticket",
   "metadata": {},
   "outputs": [],
   "source": []
  },
  {
   "cell_type": "raw",
   "id": "selected-mills",
   "metadata": {},
   "source": []
  }
 ],
 "metadata": {
  "kernelspec": {
   "display_name": "Python 3",
   "language": "python",
   "name": "python3"
  },
  "language_info": {
   "codemirror_mode": {
    "name": "ipython",
    "version": 3
   },
   "file_extension": ".py",
   "mimetype": "text/x-python",
   "name": "python",
   "nbconvert_exporter": "python",
   "pygments_lexer": "ipython3",
   "version": "3.8.5"
  }
 },
 "nbformat": 4,
 "nbformat_minor": 5
}
